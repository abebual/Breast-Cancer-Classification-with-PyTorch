{
 "cells": [
  {
   "cell_type": "markdown",
   "metadata": {},
   "source": [
    "First, we declare the path to the input dataset (datasets/original). A Breast Cancer Histology Image Dataset from kaggle: https://www.kaggle.com/paultimothymooney/breast-histopathology-images/source "
   ]
  },
  {
   "cell_type": "code",
   "execution_count": 1,
   "metadata": {},
   "outputs": [],
   "source": [
    "import os \n",
    "os.chdir('C:\\\\Users\\\\abebu\\\\Dropbox\\\\Data Science\\\\DeepLearning\\\\Capstone Project 2\\\\breast-cancer-classification')"
   ]
  },
  {
   "cell_type": "code",
   "execution_count": 4,
   "metadata": {},
   "outputs": [],
   "source": [
    "%matplotlib inline\n",
    "import numpy as np\n",
    "import matplotlib.pyplot as plt\n",
    "import cv2\n",
    "import torch\n",
    "import torch.utils.data as data \n",
    "import torchvision\n",
    "from torchvision import datasets, transforms\n",
    "import config"
   ]
  },
  {
   "cell_type": "code",
   "execution_count": 7,
   "metadata": {},
   "outputs": [
    {
     "data": {
      "text/plain": [
       "tensor([0.8023, 0.6129, 0.7238])"
      ]
     },
     "execution_count": 7,
     "metadata": {},
     "output_type": "execute_result"
    }
   ],
   "source": [
    "# First i want to calculate mean and standard deviation of my training set\n",
    "# to get the values for transforms.Normalize\n",
    "\n",
    "traindata=datasets.ImageFolder(config.TRAIN_PATH, transform=transforms.ToTensor())\n",
    "image_means =torch.stack([t.mean(1).mean(1) for t, c in traindata])\n",
    "image_means.mean(0)\n",
    "\n"
   ]
  },
  {
   "cell_type": "code",
   "execution_count": 8,
   "metadata": {},
   "outputs": [
    {
     "data": {
      "text/plain": [
       "tensor([0.0158, 0.0219, 0.0178])"
      ]
     },
     "execution_count": 8,
     "metadata": {},
     "output_type": "execute_result"
    }
   ],
   "source": [
    "image_stds =torch.stack([t.std(1).std(1) for t, c in traindata])\n",
    "image_stds.std(0)"
   ]
  },
  {
   "cell_type": "code",
   "execution_count": 3,
   "metadata": {},
   "outputs": [],
   "source": [
    "# Transform the data to torch tensors and normalize it \n",
    "\n",
    "transform_idc = transforms.Compose([transforms.RandomResizedCrop(48),\n",
    "                                      transforms.RandomHorizontalFlip(),\n",
    "                                      transforms.RandomVerticalFlip(),\n",
    "                                      transforms.ToTensor(),\n",
    "                                      #transforms.Normalize(mean=[0.8023, 0.6129, 0.7238], \n",
    "                                                           #std=[0.0158, 0.0219, 0.0178])\n",
    "                                   ]) \n",
    "\n",
    "\n",
    "# Prepare training set, validation set and testing set\n",
    "trainset = datasets.ImageFolder(config.TRAIN_PATH, transform=transform_idc)\n",
    "valset = datasets.ImageFolder(config.VAL_PATH, transform=transform_idc)\n",
    "testset = datasets.ImageFolder(config.TEST_PATH, transform=transform_idc )\n",
    "\n",
    "#parameters \n",
    "params = {'batch_size': 32,\n",
    "          'shuffle': True,\n",
    "          'num_workers': 4}\n",
    "\n",
    "# Prepare training loader and testing loader (makes datasets iterable)\n",
    "\n",
    "trainloader = data.DataLoader(trainset, **params)\n",
    "valloader = data.DataLoader(valset, **params)\n",
    "testloader = data.DataLoader(testset, **params)"
   ]
  },
  {
   "cell_type": "code",
   "execution_count": null,
   "metadata": {},
   "outputs": [],
   "source": []
  }
 ],
 "metadata": {
  "kernelspec": {
   "display_name": "Python 3",
   "language": "python",
   "name": "python3"
  },
  "language_info": {
   "codemirror_mode": {
    "name": "ipython",
    "version": 3
   },
   "file_extension": ".py",
   "mimetype": "text/x-python",
   "name": "python",
   "nbconvert_exporter": "python",
   "pygments_lexer": "ipython3",
   "version": "3.7.4"
  }
 },
 "nbformat": 4,
 "nbformat_minor": 2
}
